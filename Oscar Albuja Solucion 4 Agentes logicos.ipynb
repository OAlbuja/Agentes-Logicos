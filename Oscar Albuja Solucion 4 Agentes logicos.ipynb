{
  "nbformat": 4,
  "nbformat_minor": 0,
  "metadata": {
    "colab": {
      "provenance": []
    },
    "kernelspec": {
      "name": "python3",
      "display_name": "Python 3"
    },
    "language_info": {
      "name": "python"
    }
  },
  "cells": [
    {
      "cell_type": "markdown",
      "source": [
        "#   Solución 4: Agentes lógicos\n",
        "##   Oscar Albuja"
      ],
      "metadata": {
        "id": "vscpx2k1Z2CN"
      }
    },
    {
      "cell_type": "code",
      "execution_count": 2,
      "metadata": {
        "id": "ix0m1ZB4_7dH"
      },
      "outputs": [],
      "source": [
        "import sympy\n"
      ]
    },
    {
      "cell_type": "markdown",
      "source": [
        "A) Convierta las siguientes formulas a su forma normal conjuntiva (CNF)\n",
        "\n",
        "\n",
        "\n",
        "1.   U ⇒ (¬T ⇒ (¬S ∧ P))\n",
        "2.   A ⇔ (B ∧ C)\n",
        "\n"
      ],
      "metadata": {
        "id": "sJBsNwvrE0i3"
      }
    },
    {
      "cell_type": "code",
      "source": [
        "U, T, S, P, A, B, C = sympy.symbols('U T S P A B C')\n",
        "\n",
        "formula1 = U >> (~T >> (~S & P))\n",
        "cnf1 = sympy.to_cnf(formula1)\n",
        "print(\"CNF de la fórmula 1: \", cnf1)\n",
        "\n",
        "formula2 = sympy.Equivalent(A, B & C)\n",
        "cnf2 = sympy.to_cnf(formula2)\n",
        "print(\"CNF de la fórmula 2: \", cnf2)\n"
      ],
      "metadata": {
        "colab": {
          "base_uri": "https://localhost:8080/"
        },
        "id": "uklFgV6zACZD",
        "outputId": "b5bed71a-75bc-41e1-d3e6-c85089ef4e55"
      },
      "execution_count": 6,
      "outputs": [
        {
          "output_type": "stream",
          "name": "stdout",
          "text": [
            "CNF de la fórmula 1:  (P | T | ~U) & (T | ~S | ~U)\n",
            "CNF de la fórmula 2:  (B | ~A) & (C | ~A) & (A | ~B | ~C)\n"
          ]
        }
      ]
    },
    {
      "cell_type": "markdown",
      "source": [
        "B) Dadas las siguientes formulas:\n",
        "\n",
        "\n",
        "1. (P ∨ Q ∨ ¬R) ∧ (P ∨ ¬Q) ∧ ¬P ∧ R ∧ U\n",
        "2. (P ∨ Q) ∧ ¬Q ∧ (¬P ∨ Q ∨ ¬R)\n",
        "3. (P ∨ Q) ∧ (P ∨ ¬Q) ∧ (¬P ∨ Q) ∧ (¬P ∨ ¬R)\n",
        "\n",
        "\n",
        "Encuentre una asignacion que satisfaga la formula o muestre que esa asignacion no existe.\n",
        "\n",
        "\n"
      ],
      "metadata": {
        "id": "iWuk6xBBE6Kn"
      }
    },
    {
      "cell_type": "code",
      "source": [
        "P, Q, R, U = sympy.symbols('P Q R U')\n",
        "\n",
        "formula1 = (P | Q | ~R) & (P | ~Q) & ~P & R & U\n",
        "satisfaccion1 = sympy.satisfiable(formula1)\n",
        "print(\"Satisfacción para la fórmula 1: \", satisfaccion1)\n",
        "\n",
        "formula2 = (P | Q) & ~Q & (~P | Q | ~R)\n",
        "satisfaccion2 = sympy.satisfiable(formula2)\n",
        "print(\"Satisfacción para la fórmula 2: \", satisfaccion2)\n",
        "\n",
        "formula3 = (P | Q) & (P | ~Q) & (~P | Q) & (~P | ~R)\n",
        "satisfaccion3 = sympy.satisfiable(formula3)\n",
        "print(\"Satisfacción para la fórmula 3: \", satisfaccion3)\n"
      ],
      "metadata": {
        "id": "jNEk-YxkDJAD"
      },
      "execution_count": null,
      "outputs": []
    },
    {
      "cell_type": "markdown",
      "source": [
        "C) Considerando las siguientes f´ormulas en l´ogica proposicional: Φ1 = A ∧ (B ∨ Q) y Φ2 = (A ∧ B) ∨ (A ∧ Q)\n",
        "\n",
        "*   Pruebe que Φ1 |= Φ2\n",
        "*   Pruebe que Φ2 |= Φ1"
      ],
      "metadata": {
        "id": "FfC_5QJSYaFe"
      }
    },
    {
      "cell_type": "code",
      "source": [
        "from sympy.logic.inference import satisfiable\n",
        "\n",
        "# Definir las proposiciones\n",
        "A, B, Q = sympy.symbols('A B Q')\n",
        "\n",
        "# Definir las fórmulas\n",
        "Phi1 = A & (B | Q)\n",
        "Phi2 = (A & B) | (A & Q)\n",
        "\n",
        "# Prueba de Φ1 |= Φ2\n",
        "if satisfiable(Phi1 & ~Phi2):\n",
        "    print(\"Φ1 NO implica Φ2\")\n",
        "else:\n",
        "    print(\"Φ1 implica Φ2\")\n",
        "\n",
        "# Prueba de Φ2 |= Φ1\n",
        "if satisfiable(Phi2 & ~Phi1):\n",
        "    print(\"Φ2 NO implica Φ1\")\n",
        "else:\n",
        "    print(\"Φ2 implica Φ1\")"
      ],
      "metadata": {
        "colab": {
          "base_uri": "https://localhost:8080/"
        },
        "id": "CWCgKQlOYrm7",
        "outputId": "418c26a1-8c14-4586-943f-a1fa50882b1a"
      },
      "execution_count": 9,
      "outputs": [
        {
          "output_type": "stream",
          "name": "stdout",
          "text": [
            "Φ1 implica Φ2\n",
            "Φ2 implica Φ1\n"
          ]
        }
      ]
    },
    {
      "cell_type": "markdown",
      "source": [
        "D) Considerando las siguientes proposiciones:\n",
        "\n",
        "*   p: “It’s sunny”\n",
        "*   q: “It’s colder than yesterday”\n",
        "*   r: “We will go swimming”\n",
        "*   s: “We will take a canoe trip”\n",
        "*   t: “We will be home by sunset”\n",
        "\n",
        "\n",
        "y las premisas:\n",
        "\n",
        "*   a. “It’s not sunny and it’s colder than yesterday”\n",
        "*   b. “We will go swimming only if it’s sunny”\n",
        "*   c. “If we don’t go swimming then we will take canoe trip”\n",
        "*   d. “If we take a canoe trip, then we will be home by sunset”\n",
        "\n",
        "pruebe que “We will be home by sunset”."
      ],
      "metadata": {
        "id": "kAU4TVTdXry6"
      }
    },
    {
      "cell_type": "code",
      "source": [
        "from sympy.logic.inference import satisfiable\n",
        "\n",
        "# Definir las proposiciones\n",
        "p, q, r, s, t = sympy.symbols('p q r s t')\n",
        "\n",
        "# Premisas\n",
        "a = ~p & q\n",
        "b = sympy.Implies(r, p)\n",
        "c = sympy.Implies(~r, s)\n",
        "d = sympy.Implies(s, t)\n",
        "\n",
        "# Combinar las premisas\n",
        "kb = a & b & c & d\n",
        "\n",
        "# Teorema a probar (conclusión)\n",
        "theorem = t\n",
        "\n",
        "# Verificar si es posible que todas las premisas sean verdaderas y la conclusión sea falsa\n",
        "if sympy.satisfiable(kb & ~theorem):\n",
        "    print(\"kb NO implica theorem (No se sigue que 'Estaremos en casa al atardecer')\")\n",
        "else:\n",
        "    print(\"kb implica theorem (Se sigue que 'Estaremos en casa al atardecer')\")\n"
      ],
      "metadata": {
        "colab": {
          "base_uri": "https://localhost:8080/"
        },
        "id": "mPeySjY4EgSP",
        "outputId": "1af6af5a-cb3b-403f-a44b-c4018b9aca95"
      },
      "execution_count": 7,
      "outputs": [
        {
          "output_type": "stream",
          "name": "stdout",
          "text": [
            "kb implica theorem (Se sigue que 'Estaremos en casa al atardecer')\n"
          ]
        }
      ]
    }
  ]
}